{
 "cells": [
  {
   "cell_type": "code",
   "execution_count": null,
   "id": "8a39bdeb-5d2f-4857-acfe-b9678ba25ae1",
   "metadata": {},
   "outputs": [],
   "source": [
    "%load_ext autoreload\n",
    "%autoreload 2\n",
    "%config Completer.use_jedi = False"
   ]
  },
  {
   "cell_type": "code",
   "execution_count": null,
   "id": "f35f534b-9692-4ecd-94c9-24efc0e2dd0b",
   "metadata": {},
   "outputs": [],
   "source": [
    "from pprint import pprint\n",
    "\n",
    "from tiled.client import from_uri\n",
    "from tiled.queries import Contains\n",
    "\n",
    "import matplotlib.pyplot as plt\n",
    "import matplotlib as mpl"
   ]
  },
  {
   "cell_type": "code",
   "execution_count": null,
   "id": "fa1941aa-87af-4023-a63b-95f8d96b437e",
   "metadata": {},
   "outputs": [],
   "source": [
    "mpl.rcParams['mathtext.fontset'] = 'stix'\n",
    "mpl.rcParams['font.family'] = 'STIXGeneral'\n",
    "# mpl.rcParams['text.usetex'] = True\n",
    "mpl.rcParams['text.usetex'] = False\n",
    "plt.rc('xtick', labelsize=12)\n",
    "plt.rc('ytick', labelsize=12)\n",
    "plt.rc('axes', labelsize=12)\n",
    "mpl.rcParams['figure.dpi'] = 300"
   ]
  },
  {
   "cell_type": "code",
   "execution_count": null,
   "id": "a55bd0e9-2c0b-4283-a43a-7f8cee6d5eaa",
   "metadata": {},
   "outputs": [],
   "source": [
    "from lightway.ingest.iss import ingest_all\n",
    "from lightway.postprocessing.operations import StandardizeGrid, NormalizeLarch, QAQC, postprocess"
   ]
  },
  {
   "cell_type": "markdown",
   "id": "be43159e-5f02-4071-9dcf-baff98d16a25",
   "metadata": {},
   "source": [
    "With a tiled server spun up, get the client."
   ]
  },
  {
   "cell_type": "code",
   "execution_count": null,
   "id": "70d5314d-70d1-4cf9-8373-e01d34839fb7",
   "metadata": {},
   "outputs": [],
   "source": [
    "client = from_uri(\"http://127.0.0.1:8000?api_key=eli1is2the3big4cheese\")"
   ]
  },
  {
   "cell_type": "markdown",
   "id": "f6871c10-354f-4ab1-8f2c-66b1280be091",
   "metadata": {},
   "source": [
    "Load everything into the client. This performs local validation to make sure everything contains the correct metadata, columns, etc. It will throw errors and kill the program if things do not satisfy all validation steps."
   ]
  },
  {
   "cell_type": "code",
   "execution_count": null,
   "id": "8eab2fca-84b3-44fd-90b2-938999f1bd2b",
   "metadata": {},
   "outputs": [],
   "source": [
    "ingest_all(client, \"real_example_data\")"
   ]
  },
  {
   "cell_type": "markdown",
   "id": "96b6129b-1152-4d61-9c7d-c0690b2b7362",
   "metadata": {},
   "source": [
    "Get all of the e.g. transmission data for Ni, and setup two operators for postprocessing procedures.\n",
    "1. Standardize the grid appropriately\n",
    "2. Normalize using larch"
   ]
  },
  {
   "cell_type": "code",
   "execution_count": null,
   "id": "e188b515-fcc4-4071-92e8-579a704cf734",
   "metadata": {},
   "outputs": [],
   "source": [
    "transmission_node_Ni = client.search(Contains(\"channel\", \"transmission\")).search(Contains(\"Element-symbol\", \"Ni\"))"
   ]
  },
  {
   "cell_type": "markdown",
   "id": "4cbc9a55-566e-441f-a766-ba3a6b59014b",
   "metadata": {},
   "source": [
    "There is a lot of crap in this database."
   ]
  },
  {
   "cell_type": "code",
   "execution_count": null,
   "id": "a34ac9ed-43ce-4ae1-9354-f6c4edbb9ffc",
   "metadata": {},
   "outputs": [],
   "source": [
    "fig, ax = plt.subplots(1, 1, figsize=(3, 2))\n",
    "\n",
    "for key, value in transmission_node_Ni.items():\n",
    "    d = value.read()\n",
    "    ax.plot(d[\"energy\"], d[\"mu\"])\n",
    "    \n",
    "plt.show()"
   ]
  },
  {
   "cell_type": "markdown",
   "id": "6f98bd47-34f6-4c64-b868-775a2cc1e0ed",
   "metadata": {},
   "source": [
    "Quality assurance and control."
   ]
  },
  {
   "cell_type": "code",
   "execution_count": null,
   "id": "803d30eb-9a36-4bc6-9937-c8237f36788f",
   "metadata": {},
   "outputs": [],
   "source": [
    "postprocess(transmission_node_Ni, operators=[NormalizeLarch(), StandardizeGrid(x0=8240.0, xf=8800.0, nx=300), QAQC()])"
   ]
  },
  {
   "cell_type": "code",
   "execution_count": null,
   "id": "7c35ad68-2771-45d3-b810-9b6e1cfbd083",
   "metadata": {},
   "outputs": [],
   "source": [
    "transmission_node_Ni_good = transmission_node_Ni.search(Contains(\"quality\", \"good\"))"
   ]
  },
  {
   "cell_type": "markdown",
   "id": "62297e13-58d3-42ac-8ba4-361209b37ce7",
   "metadata": {},
   "source": [
    "Much better. Still some weirdness here but this is what we want to see."
   ]
  },
  {
   "cell_type": "code",
   "execution_count": null,
   "id": "1882d98f-626d-4eba-9bf4-ee618161a809",
   "metadata": {},
   "outputs": [],
   "source": [
    "fig, ax = plt.subplots(1, 1, figsize=(3, 2))\n",
    "\n",
    "for key, value in transmission_node_Ni_good.items():\n",
    "    d = value.read()\n",
    "    ax.plot(d[\"energy\"], d[\"mu\"])\n",
    "    \n",
    "plt.show()"
   ]
  }
 ],
 "metadata": {
  "kernelspec": {
   "display_name": "Python 3 (ipykernel)",
   "language": "python",
   "name": "python3"
  },
  "language_info": {
   "codemirror_mode": {
    "name": "ipython",
    "version": 3
   },
   "file_extension": ".py",
   "mimetype": "text/x-python",
   "name": "python",
   "nbconvert_exporter": "python",
   "pygments_lexer": "ipython3",
   "version": "3.9.15"
  },
  "toc-autonumbering": true,
  "vscode": {
   "interpreter": {
    "hash": "a3c478af6b5fea0ad44ec6513a903f52aecf0980f3fd040916aba103253221d8"
   }
  }
 },
 "nbformat": 4,
 "nbformat_minor": 5
}
