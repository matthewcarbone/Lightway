{
 "cells": [
  {
   "cell_type": "code",
   "execution_count": null,
   "id": "8a39bdeb-5d2f-4857-acfe-b9678ba25ae1",
   "metadata": {},
   "outputs": [],
   "source": [
    "%load_ext autoreload\n",
    "%autoreload 2\n",
    "%config Completer.use_jedi = False"
   ]
  },
  {
   "cell_type": "code",
   "execution_count": null,
   "id": "f35f534b-9692-4ecd-94c9-24efc0e2dd0b",
   "metadata": {},
   "outputs": [],
   "source": [
    "from os import environ\n",
    "from pprint import pprint\n",
    "\n",
    "from tiled.queries import Contains\n",
    "\n",
    "import matplotlib.pyplot as plt\n",
    "import matplotlib as mpl\n",
    "import numpy as np\n",
    "import pandas as pd"
   ]
  },
  {
   "cell_type": "code",
   "execution_count": null,
   "id": "fa1941aa-87af-4023-a63b-95f8d96b437e",
   "metadata": {},
   "outputs": [],
   "source": [
    "mpl.rcParams['mathtext.fontset'] = 'stix'\n",
    "mpl.rcParams['font.family'] = 'STIXGeneral'\n",
    "# mpl.rcParams['text.usetex'] = True\n",
    "mpl.rcParams['text.usetex'] = False\n",
    "plt.rc('xtick', labelsize=12)\n",
    "plt.rc('ytick', labelsize=12)\n",
    "plt.rc('axes', labelsize=12)\n",
    "mpl.rcParams['figure.dpi'] = 300"
   ]
  },
  {
   "cell_type": "code",
   "execution_count": null,
   "id": "a55bd0e9-2c0b-4283-a43a-7f8cee6d5eaa",
   "metadata": {},
   "outputs": [],
   "source": [
    "from lightway.client import from_uri\n",
    "from lightway.ingest.iss import ingest_all\n",
    "from lightway.utils import check_versions\n",
    "check_versions()"
   ]
  },
  {
   "cell_type": "markdown",
   "id": "be43159e-5f02-4071-9dcf-baff98d16a25",
   "metadata": {},
   "source": [
    "With a tiled server spun up, get the client."
   ]
  },
  {
   "cell_type": "code",
   "execution_count": null,
   "id": "70d5314d-70d1-4cf9-8373-e01d34839fb7",
   "metadata": {},
   "outputs": [],
   "source": [
    "api_key = environ[\"TILED_SINGLE_USER_API_KEY\"]\n",
    "client = from_uri(f\"http://127.0.0.1:8000?api_key={api_key}\")"
   ]
  },
  {
   "cell_type": "markdown",
   "id": "75a76606-ed3a-48ef-98b8-8765159f9481",
   "metadata": {},
   "source": [
    "Ingest all of the data."
   ]
  },
  {
   "cell_type": "code",
   "execution_count": null,
   "id": "80b7117c-e7e9-46e2-b66f-eb1bcb3c7937",
   "metadata": {
    "tags": []
   },
   "outputs": [],
   "source": [
    "ingest_all(client, \"real_example_data\")"
   ]
  },
  {
   "cell_type": "markdown",
   "id": "2c3965b2-1347-47eb-bfa4-7c9ce73b3e72",
   "metadata": {},
   "source": [
    "Get the first entry in the database."
   ]
  },
  {
   "cell_type": "code",
   "execution_count": null,
   "id": "45331cd1-cb04-4ab0-a709-ae1411688952",
   "metadata": {
    "tags": []
   },
   "outputs": [],
   "source": [
    "first = client.values().first()"
   ]
  },
  {
   "cell_type": "markdown",
   "id": "1e8d9028-93b0-4eb0-a4a5-f34d05bd0bfc",
   "metadata": {},
   "source": [
    "Label the first entry in the database via the QAQC operator."
   ]
  },
  {
   "cell_type": "code",
   "execution_count": null,
   "id": "8ae581ad-0199-4ff4-b789-7cabc6723d59",
   "metadata": {
    "tags": []
   },
   "outputs": [],
   "source": [
    "first.check_quality_()"
   ]
  },
  {
   "cell_type": "code",
   "execution_count": null,
   "id": "a9b401ff-1271-42b7-9119-1583f4fb7011",
   "metadata": {
    "tags": []
   },
   "outputs": [],
   "source": [
    "first.metadata"
   ]
  }
 ],
 "metadata": {
  "kernelspec": {
   "display_name": "Python 3 (ipykernel)",
   "language": "python",
   "name": "python3"
  },
  "language_info": {
   "codemirror_mode": {
    "name": "ipython",
    "version": 3
   },
   "file_extension": ".py",
   "mimetype": "text/x-python",
   "name": "python",
   "nbconvert_exporter": "python",
   "pygments_lexer": "ipython3",
   "version": "3.9.16"
  },
  "toc-autonumbering": true,
  "vscode": {
   "interpreter": {
    "hash": "a3c478af6b5fea0ad44ec6513a903f52aecf0980f3fd040916aba103253221d8"
   }
  }
 },
 "nbformat": 4,
 "nbformat_minor": 5
}
